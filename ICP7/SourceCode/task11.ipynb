{
 "cells": [
  {
   "cell_type": "code",
   "execution_count": 2,
   "metadata": {},
   "outputs": [],
   "source": [
    "from nltk.corpus import stopwords\n",
    "from sklearn.datasets import fetch_20newsgroups\n",
    "\n",
    "from sklearn.feature_extraction.text import CountVectorizer, TfidfVectorizer\n",
    "from sklearn.feature_extraction.text import TfidfTransformer\n",
    "from sklearn import metrics\n",
    "from sklearn.pipeline import Pipeline\n",
    "from sklearn.naive_bayes import MultinomialNB\n"
   ]
  },
  {
   "cell_type": "code",
   "execution_count": 3,
   "metadata": {},
   "outputs": [],
   "source": [
    "twenty_train = fetch_20newsgroups(subset='train', shuffle=True)\n"
   ]
  },
  {
   "cell_type": "code",
   "execution_count": 4,
   "metadata": {},
   "outputs": [],
   "source": [
    "tfidf_Vect = TfidfVectorizer()\n",
    "X_train_tfidf = tfidf_Vect.fit_transform(twenty_train.data)\n",
    "# print(tfidf_Vect.vocabulary_)\n",
    "clf = MultinomialNB()\n",
    "clf.fit(X_train_tfidf, twenty_train.target)\n",
    "\n",
    "twenty_test = fetch_20newsgroups(subset='test', shuffle=True)\n",
    "X_test_tfidf = tfidf_Vect.transform(twenty_test.data)\n",
    "\n",
    "predicted = clf.predict(X_test_tfidf)\n",
    "\n",
    "score = metrics.accuracy_score(twenty_test.target, predicted)"
   ]
  },
  {
   "cell_type": "code",
   "execution_count": 5,
   "metadata": {},
   "outputs": [
    {
     "data": {
      "text/plain": [
       "0.7738980350504514"
      ]
     },
     "execution_count": 5,
     "metadata": {},
     "output_type": "execute_result"
    }
   ],
   "source": [
    "score"
   ]
  },
  {
   "cell_type": "code",
   "execution_count": null,
   "metadata": {},
   "outputs": [],
   "source": [
    "from sklearn.svm import SVC\n",
    "# building SVM model\n",
    "svc = SVC()\n",
    "svc.fit(X_train_tfidf, twenty_train.target)\n",
    "pred = svc.predict(X_test_tfidf)\n",
    "score1 = metrics.accuracy_score(twenty_test.target, pred)"
   ]
  },
  {
   "cell_type": "code",
   "execution_count": null,
   "metadata": {},
   "outputs": [],
   "source": [
    "score1"
   ]
  },
  {
   "cell_type": "code",
   "execution_count": null,
   "metadata": {},
   "outputs": [],
   "source": [
    "score1"
   ]
  },
  {
   "cell_type": "code",
   "execution_count": null,
   "metadata": {},
   "outputs": [],
   "source": [
    "# change the tfidf vectorizer to use bigram\n",
    "\n",
    "tfidf_Vect_bigram = TfidfVectorizer(ngram_range=(1, 2))\n",
    "\n",
    "X_train_tfidf_bigram = tfidf_Vect_bigram.fit_transform(twenty_train.data)\n",
    "\n",
    "X_test_tfidf_bigram = tfidf_Vect_bigram.transform(twenty_test.data)\n",
    "\n",
    "# building the model\n",
    "svc.fit(X_train_tfidf_bigram, twenty_train.target)\n",
    "pred1 = svc.predict(X_test_tfidf_bigram)\n",
    "score2 = metrics.accuracy_score(twenty_test.target, pred1)\n"
   ]
  },
  {
   "cell_type": "raw",
   "metadata": {},
   "source": [
    "score2"
   ]
  },
  {
   "cell_type": "code",
   "execution_count": null,
   "metadata": {},
   "outputs": [],
   "source": [
    "stop_words = set(stopwords.words('english'))\n",
    "\n",
    "tfidf_Vect_stopwords = TfidfVectorizer(ngram_range=(1, 2), stop_words = 'english')\n",
    "\n",
    "X_train_tfidf_stopwords = tfidf_Vect_stopwords.fit_transform(twenty_train.data)\n",
    "\n",
    "X_test_tfidf_stopwords = tfidf_Vect_stopwords.transform(twenty_test.data)\n",
    "# building the model\n",
    "svc.fit(X_train_tfidf_stopwords, twenty_train.target)\n",
    "pred2 = svc.predict(X_test_tfidf_stopwords)\n",
    "score3 = metrics.accuracy_score(twenty_test.target, pred2)"
   ]
  },
  {
   "cell_type": "code",
   "execution_count": null,
   "metadata": {},
   "outputs": [],
   "source": [
    "score"
   ]
  },
  {
   "cell_type": "code",
   "execution_count": null,
   "metadata": {},
   "outputs": [],
   "source": [
    "score3"
   ]
  },
  {
   "cell_type": "code",
   "execution_count": null,
   "metadata": {},
   "outputs": [],
   "source": []
  }
 ],
 "metadata": {
  "kernelspec": {
   "display_name": "Python 3",
   "language": "python",
   "name": "python3"
  },
  "language_info": {
   "codemirror_mode": {
    "name": "ipython",
    "version": 3
   },
   "file_extension": ".py",
   "mimetype": "text/x-python",
   "name": "python",
   "nbconvert_exporter": "python",
   "pygments_lexer": "ipython3",
   "version": "3.7.7"
  }
 },
 "nbformat": 4,
 "nbformat_minor": 4
}
